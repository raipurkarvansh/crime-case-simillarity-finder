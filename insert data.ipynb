{
 "cells": [
  {
   "cell_type": "code",
   "execution_count": 13,
   "id": "46dfc1f4-1791-411b-b15f-fdbba6a87977",
   "metadata": {},
   "outputs": [],
   "source": [
    "import pymysql\n",
    "from faker import Faker\n",
    "import random"
   ]
  },
  {
   "cell_type": "code",
   "execution_count": 14,
   "id": "ec6c10db-2e6d-4e9a-a9c0-ce3d47b30ded",
   "metadata": {},
   "outputs": [
    {
     "name": "stdout",
     "output_type": "stream",
     "text": [
      "connected to mysql\n"
     ]
    }
   ],
   "source": [
    "# create faker object\n",
    "fake = Faker()\n",
    "\n",
    "\n",
    "# connect to my sql\n",
    "conn = pymysql.connect(\n",
    "    host = 'localhost',\n",
    "    user = 'root',\n",
    "    password = 'Raipurkarvs10@',\n",
    "    db = 'crime',\n",
    "    charset='utf8mb4',\n",
    "    cursorclass=pymysql.cursors.DictCursor\n",
    ")\n",
    "cursor = conn.cursor()\n",
    "print('connected to mysql')"
   ]
  },
  {
   "cell_type": "code",
   "execution_count": 15,
   "id": "b2299c94-434c-49e2-949d-6dd0b840a8a4",
   "metadata": {},
   "outputs": [
    {
     "name": "stdout",
     "output_type": "stream",
     "text": [
      "data inserted successfully\n"
     ]
    }
   ],
   "source": [
    "# insert 1000 fake records\n",
    "\n",
    "for i in range(1000):\n",
    "    case_id = fake.uuid4()\n",
    "    summary = fake.sentence()\n",
    "    status = random.choice(['Open', 'Closed', 'Under Investigation'])\n",
    "    time_to_solve = random.randint(1, 90)\n",
    "    lat = float(fake.latitude())\n",
    "    lon = float(fake.longitude())\n",
    "    date_reported = fake.date_between(start_date='-1y', end_date='today')\n",
    "    location_desc = fake.city()\n",
    "\n",
    "    cursor.execute(\"\"\"\n",
    "        INSERT INTO crime_reports (case_id, summary, status, time_to_solve, lat, lon, date_reported, location_desc)\n",
    "        VALUES (%s, %s, %s, %s, %s, %s, %s, %s)\n",
    "    \"\"\", (case_id, summary, status, time_to_solve, lat, lon, date_reported, location_desc))\n",
    "\n",
    "# save and close\n",
    "conn.commit()\n",
    "conn.close()\n",
    "print('data inserted successfully')"
   ]
  }
 ],
 "metadata": {
  "kernelspec": {
   "display_name": "Python 3 (ipykernel)",
   "language": "python",
   "name": "python3"
  },
  "language_info": {
   "codemirror_mode": {
    "name": "ipython",
    "version": 3
   },
   "file_extension": ".py",
   "mimetype": "text/x-python",
   "name": "python",
   "nbconvert_exporter": "python",
   "pygments_lexer": "ipython3",
   "version": "3.11.7"
  }
 },
 "nbformat": 4,
 "nbformat_minor": 5
}
