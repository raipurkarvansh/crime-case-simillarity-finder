{
 "cells": [
  {
   "cell_type": "code",
   "execution_count": 8,
   "id": "371448f0-c906-47a0-b4ca-791eb3fdbcea",
   "metadata": {},
   "outputs": [],
   "source": [
    "import pandas as pd"
   ]
  },
  {
   "cell_type": "code",
   "execution_count": 9,
   "id": "56afc98e-989a-4d92-b70e-d00525c50351",
   "metadata": {},
   "outputs": [],
   "source": [
    "df = pd.read_csv(\"fir_data_updated.csv\")"
   ]
  },
  {
   "cell_type": "code",
   "execution_count": 13,
   "id": "7c9181f8-1677-4c77-a2a8-e0e1818bc765",
   "metadata": {},
   "outputs": [
    {
     "data": {
      "text/html": [
       "<div>\n",
       "<style scoped>\n",
       "    .dataframe tbody tr th:only-of-type {\n",
       "        vertical-align: middle;\n",
       "    }\n",
       "\n",
       "    .dataframe tbody tr th {\n",
       "        vertical-align: top;\n",
       "    }\n",
       "\n",
       "    .dataframe thead th {\n",
       "        text-align: right;\n",
       "    }\n",
       "</style>\n",
       "<table border=\"1\" class=\"dataframe\">\n",
       "  <thead>\n",
       "    <tr style=\"text-align: right;\">\n",
       "      <th></th>\n",
       "      <th>case_id</th>\n",
       "      <th>summary</th>\n",
       "      <th>location</th>\n",
       "      <th>date_reported</th>\n",
       "      <th>lat</th>\n",
       "      <th>lon</th>\n",
       "      <th>status</th>\n",
       "      <th>closed_date</th>\n",
       "    </tr>\n",
       "  </thead>\n",
       "  <tbody>\n",
       "    <tr>\n",
       "      <th>0</th>\n",
       "      <td>1</td>\n",
       "      <td>Mary was robbed at gunpoint near Tapia Parkways.</td>\n",
       "      <td>Pune</td>\n",
       "      <td>2024-11-18</td>\n",
       "      <td>18.5204</td>\n",
       "      <td>73.8567</td>\n",
       "      <td>Open</td>\n",
       "      <td>NaN</td>\n",
       "    </tr>\n",
       "    <tr>\n",
       "      <th>1</th>\n",
       "      <td>2</td>\n",
       "      <td>Keith had their phone snatched on Cooper Spring.</td>\n",
       "      <td>Bangalore</td>\n",
       "      <td>2024-12-29</td>\n",
       "      <td>12.9716</td>\n",
       "      <td>77.5946</td>\n",
       "      <td>Closed</td>\n",
       "      <td>2025-02-14</td>\n",
       "    </tr>\n",
       "    <tr>\n",
       "      <th>2</th>\n",
       "      <td>3</td>\n",
       "      <td>Dean was attacked with a knife at Swanson Plaza.</td>\n",
       "      <td>Jaipur</td>\n",
       "      <td>2024-10-25</td>\n",
       "      <td>26.9124</td>\n",
       "      <td>75.7873</td>\n",
       "      <td>Closed</td>\n",
       "      <td>2024-11-06</td>\n",
       "    </tr>\n",
       "    <tr>\n",
       "      <th>3</th>\n",
       "      <td>4</td>\n",
       "      <td>John saw a group vandalizing vehicles near Ern...</td>\n",
       "      <td>Pune</td>\n",
       "      <td>2024-06-04</td>\n",
       "      <td>18.5204</td>\n",
       "      <td>73.8567</td>\n",
       "      <td>Closed</td>\n",
       "      <td>2024-08-05</td>\n",
       "    </tr>\n",
       "    <tr>\n",
       "      <th>4</th>\n",
       "      <td>5</td>\n",
       "      <td>Alan faced an assault incident around Carney F...</td>\n",
       "      <td>Pune</td>\n",
       "      <td>2024-10-30</td>\n",
       "      <td>18.5204</td>\n",
       "      <td>73.8567</td>\n",
       "      <td>Open</td>\n",
       "      <td>NaN</td>\n",
       "    </tr>\n",
       "    <tr>\n",
       "      <th>...</th>\n",
       "      <td>...</td>\n",
       "      <td>...</td>\n",
       "      <td>...</td>\n",
       "      <td>...</td>\n",
       "      <td>...</td>\n",
       "      <td>...</td>\n",
       "      <td>...</td>\n",
       "      <td>...</td>\n",
       "    </tr>\n",
       "    <tr>\n",
       "      <th>995</th>\n",
       "      <td>996</td>\n",
       "      <td>Amber was attacked with a knife at Hudson Corn...</td>\n",
       "      <td>Nagpur</td>\n",
       "      <td>2024-08-25</td>\n",
       "      <td>21.1458</td>\n",
       "      <td>79.0882</td>\n",
       "      <td>Open</td>\n",
       "      <td>NaN</td>\n",
       "    </tr>\n",
       "    <tr>\n",
       "      <th>996</th>\n",
       "      <td>997</td>\n",
       "      <td>Carla faced an assault incident around Miller ...</td>\n",
       "      <td>Chennai</td>\n",
       "      <td>2025-04-29</td>\n",
       "      <td>13.0827</td>\n",
       "      <td>80.2707</td>\n",
       "      <td>Closed</td>\n",
       "      <td>2025-05-23</td>\n",
       "    </tr>\n",
       "    <tr>\n",
       "      <th>997</th>\n",
       "      <td>998</td>\n",
       "      <td>Kenneth faced an assault incident around Jessi...</td>\n",
       "      <td>Hyderabad</td>\n",
       "      <td>2025-04-09</td>\n",
       "      <td>17.3850</td>\n",
       "      <td>78.4867</td>\n",
       "      <td>Open</td>\n",
       "      <td>NaN</td>\n",
       "    </tr>\n",
       "    <tr>\n",
       "      <th>998</th>\n",
       "      <td>999</td>\n",
       "      <td>Ian was robbed at gunpoint near Linda Lane.</td>\n",
       "      <td>Delhi</td>\n",
       "      <td>2024-06-28</td>\n",
       "      <td>28.6139</td>\n",
       "      <td>77.2090</td>\n",
       "      <td>Closed</td>\n",
       "      <td>2024-07-18</td>\n",
       "    </tr>\n",
       "    <tr>\n",
       "      <th>999</th>\n",
       "      <td>1000</td>\n",
       "      <td>Roger was robbed at gunpoint near Brenda Circle.</td>\n",
       "      <td>Pune</td>\n",
       "      <td>2024-09-19</td>\n",
       "      <td>18.5204</td>\n",
       "      <td>73.8567</td>\n",
       "      <td>Open</td>\n",
       "      <td>NaN</td>\n",
       "    </tr>\n",
       "  </tbody>\n",
       "</table>\n",
       "<p>1000 rows × 8 columns</p>\n",
       "</div>"
      ],
      "text/plain": [
       "     case_id                                            summary   location  \\\n",
       "0          1   Mary was robbed at gunpoint near Tapia Parkways.       Pune   \n",
       "1          2   Keith had their phone snatched on Cooper Spring.  Bangalore   \n",
       "2          3   Dean was attacked with a knife at Swanson Plaza.     Jaipur   \n",
       "3          4  John saw a group vandalizing vehicles near Ern...       Pune   \n",
       "4          5  Alan faced an assault incident around Carney F...       Pune   \n",
       "..       ...                                                ...        ...   \n",
       "995      996  Amber was attacked with a knife at Hudson Corn...     Nagpur   \n",
       "996      997  Carla faced an assault incident around Miller ...    Chennai   \n",
       "997      998  Kenneth faced an assault incident around Jessi...  Hyderabad   \n",
       "998      999        Ian was robbed at gunpoint near Linda Lane.      Delhi   \n",
       "999     1000   Roger was robbed at gunpoint near Brenda Circle.       Pune   \n",
       "\n",
       "    date_reported      lat      lon  status closed_date  \n",
       "0      2024-11-18  18.5204  73.8567    Open         NaN  \n",
       "1      2024-12-29  12.9716  77.5946  Closed  2025-02-14  \n",
       "2      2024-10-25  26.9124  75.7873  Closed  2024-11-06  \n",
       "3      2024-06-04  18.5204  73.8567  Closed  2024-08-05  \n",
       "4      2024-10-30  18.5204  73.8567    Open         NaN  \n",
       "..            ...      ...      ...     ...         ...  \n",
       "995    2024-08-25  21.1458  79.0882    Open         NaN  \n",
       "996    2025-04-29  13.0827  80.2707  Closed  2025-05-23  \n",
       "997    2025-04-09  17.3850  78.4867    Open         NaN  \n",
       "998    2024-06-28  28.6139  77.2090  Closed  2024-07-18  \n",
       "999    2024-09-19  18.5204  73.8567    Open         NaN  \n",
       "\n",
       "[1000 rows x 8 columns]"
      ]
     },
     "execution_count": 13,
     "metadata": {},
     "output_type": "execute_result"
    }
   ],
   "source": [
    "df"
   ]
  },
  {
   "cell_type": "code",
   "execution_count": 11,
   "id": "a9c983c2-b2cc-4882-8620-f6981f030386",
   "metadata": {},
   "outputs": [
    {
     "data": {
      "text/plain": [
       "case_id          0\n",
       "summary          0\n",
       "location         0\n",
       "date             0\n",
       "lat              0\n",
       "lon              0\n",
       "status           0\n",
       "closed_date    503\n",
       "dtype: int64"
      ]
     },
     "execution_count": 11,
     "metadata": {},
     "output_type": "execute_result"
    }
   ],
   "source": [
    "# checking the null values\n",
    "\n",
    "df.isnull().sum()"
   ]
  },
  {
   "cell_type": "code",
   "execution_count": 14,
   "id": "2cdeda27-a87b-4515-a6b9-095c3cf6394a",
   "metadata": {},
   "outputs": [],
   "source": [
    "df = df.rename(columns={'date': 'reported_date'})  # or whatever the original name was\n"
   ]
  },
  {
   "cell_type": "code",
   "execution_count": 15,
   "id": "c0d9d167-f846-4972-885e-2496e6e369cd",
   "metadata": {},
   "outputs": [],
   "source": [
    "# Convert dates to datetime\n",
    "df['date_reported'] = pd.to_datetime(df['date_reported'], errors='coerce')\n",
    "df['closed_date'] = pd.to_datetime(df['closed_date'], errors='coerce')\n"
   ]
  },
  {
   "cell_type": "code",
   "execution_count": 17,
   "id": "137a06a6-db5b-4e6b-ac29-93b03ed721fc",
   "metadata": {},
   "outputs": [],
   "source": [
    "# Get today's date\n",
    "from datetime import datetime\n",
    "today = pd.to_datetime(datetime.today().date())"
   ]
  },
  {
   "cell_type": "code",
   "execution_count": 18,
   "id": "b7e3c424-db29-41af-b7bd-dab1f677e448",
   "metadata": {},
   "outputs": [],
   "source": [
    "# Calculate time_to_solve\n",
    "df['time_to_solve'] = (df['closed_date'].fillna(today) - df['date_reported']).dt.days"
   ]
  },
  {
   "cell_type": "code",
   "execution_count": 19,
   "id": "128d887b-1c7a-4d01-bb4f-a5030e9f1a23",
   "metadata": {},
   "outputs": [],
   "source": [
    "# Optional: Add a column to show whether it's open or closed\n",
    "df['case_status'] = df['closed_date'].apply(lambda x: 'Open' if pd.isna(x) else 'Closed')"
   ]
  },
  {
   "cell_type": "code",
   "execution_count": 20,
   "id": "d1b56f75-a570-4e42-9874-de90f88734c2",
   "metadata": {},
   "outputs": [],
   "source": [
    "# Save the updated dataset\n",
    "df.to_csv(\"dataset_fir.csv\", index=False)"
   ]
  },
  {
   "cell_type": "code",
   "execution_count": 23,
   "id": "9b611ed7-a082-40b3-bfa8-d63526adc759",
   "metadata": {},
   "outputs": [
    {
     "name": "stdout",
     "output_type": "stream",
     "text": [
      "model and data processing completed.\n"
     ]
    }
   ],
   "source": [
    "# save the dataframe with additional columns\n",
    "\n",
    "df.to_csv(\"processed_fir_dataset.csv\", index=False)\n",
    "print(\"model and data processing completed.\")"
   ]
  },
  {
   "cell_type": "code",
   "execution_count": null,
   "id": "3da1a379-82f5-4efb-adc3-e846d12141c2",
   "metadata": {},
   "outputs": [],
   "source": []
  }
 ],
 "metadata": {
  "kernelspec": {
   "display_name": "Python 3 (ipykernel)",
   "language": "python",
   "name": "python3"
  },
  "language_info": {
   "codemirror_mode": {
    "name": "ipython",
    "version": 3
   },
   "file_extension": ".py",
   "mimetype": "text/x-python",
   "name": "python",
   "nbconvert_exporter": "python",
   "pygments_lexer": "ipython3",
   "version": "3.11.7"
  }
 },
 "nbformat": 4,
 "nbformat_minor": 5
}
